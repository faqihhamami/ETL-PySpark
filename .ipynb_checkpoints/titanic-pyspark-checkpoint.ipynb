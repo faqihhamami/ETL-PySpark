{
 "cells": [
  {
   "cell_type": "code",
   "execution_count": 1,
   "metadata": {},
   "outputs": [],
   "source": [
    "import findspark\n",
    "findspark.init('/usr/local/spark/')"
   ]
  },
  {
   "cell_type": "code",
   "execution_count": 9,
   "metadata": {},
   "outputs": [],
   "source": [
    "import findspark\n",
    "from pyspark.sql import SparkSession"
   ]
  },
  {
   "cell_type": "code",
   "execution_count": 3,
   "metadata": {},
   "outputs": [],
   "source": [
    "def initialize_Spark():\n",
    "\n",
    "    spark = SparkSession.builder \\\n",
    "        .master(\"local[*]\") \\\n",
    "        .appName(\"Bukalapak ETL Job\") \\\n",
    "        .getOrCreate()\n",
    "\n",
    "    return spark"
   ]
  },
  {
   "cell_type": "code",
   "execution_count": 16,
   "metadata": {},
   "outputs": [],
   "source": [
    "from pyspark.sql.types import *"
   ]
  },
  {
   "cell_type": "code",
   "execution_count": 11,
   "metadata": {},
   "outputs": [],
   "source": [
    "def loadData(spark):\n",
    "    schema = StructType([\n",
    "        StructField(\"index\", IntegerType(), True),\n",
    "        StructField(\"city\", StringType(), True),\n",
    "        StructField(\"price\", DoubleType(), False),\n",
    "        StructField(\"rating\", DoubleType(), True),\n",
    "        StructField(\"Store\", StringType(), True),\n",
    "        StructField(\"title\", StringType(), True),\n",
    "        StructField(\"ulasan\", StringType(), True)\n",
    "    ])\n",
    "\n",
    "    df = spark \\\n",
    "        .read \\\n",
    "        .format(\"csv\") \\\n",
    "        .schema(schema)         \\\n",
    "        .option(\"header\", \"true\") \\\n",
    "        .load(\"bukalapak_500pages.csv\")\n",
    "\n",
    "    print(\"Data loaded into PySpark\", \"\\n\")\n",
    "\n",
    "    return df"
   ]
  },
  {
   "cell_type": "code",
   "execution_count": 12,
   "metadata": {},
   "outputs": [],
   "source": [
    "spark = initialize_Spark()"
   ]
  },
  {
   "cell_type": "code",
   "execution_count": 13,
   "metadata": {},
   "outputs": [],
   "source": [
    "#read data\n",
    "data = loadDataWithoutSchmema(spark)"
   ]
  },
  {
   "cell_type": "code",
   "execution_count": 14,
   "metadata": {},
   "outputs": [
    {
     "name": "stdout",
     "output_type": "stream",
     "text": [
      "+--------------------+---------------+----------+------+-----+-----+------+\n",
      "|               index|           city|     price|rating|store|title|ulasan|\n",
      "+--------------------+---------------+----------+------+-----+-----+------+\n",
      "|                   0|Jakarta Selatan| 7.499.000|   4.9|    \"| null|  null|\n",
      "|        Kedai Gadget|           null|      null|  null| null| null|  null|\n",
      "|,Samsung Galaxy N...|           null|      null|  null| null| null|  null|\n",
      "|                   1|      Sukoharjo|26.500.000|     0|    \"| null|  null|\n",
      "|   PEYOK Social Club|           null|      null|  null| null| null|  null|\n",
      "|,iPhone 11 Pro & ...|           null|      null|  null| null| null|  null|\n",
      "|                   2|      Indramayu| 2.050.000|   5.0|    \"| null|  null|\n",
      "|    muhammad khaerul|           null|      null|  null| null| null|  null|\n",
      "|,SONY XZ GLOBAL N...|           null|      null|  null| null| null|  null|\n",
      "|                   3|      Indramayu| 3.200.000|   2.0|    \"| null|  null|\n",
      "|    muhammad khaerul|           null|      null|  null| null| null|  null|\n",
      "|,SONY XZS GLOBAL ...|           null|      null|  null| null| null|  null|\n",
      "|                   4|   Kab. Cirebon| 1.616.000|   4.6|    \"| null|  null|\n",
      "|COMPLETE SELULAR ...|           null|      null|  null| null| null|  null|\n",
      "|,Samsung Galaxy A...|           null|      null|  null| null| null|  null|\n",
      "|                   5|   Lubuklinggau| 1.125.000|     0|    \"| null|  null|\n",
      "|         erickhilz86|           null|      null|  null| null| null|  null|\n",
      "|,realme c1 ram 2g...|           null|      null|  null| null| null|  null|\n",
      "|                   6|   Kab. Cirebon| 3.125.000|   4.6|    \"| null|  null|\n",
      "|COMPLETE SELULAR ...|           null|      null|  null| null| null|  null|\n",
      "+--------------------+---------------+----------+------+-----+-----+------+\n",
      "only showing top 20 rows\n",
      "\n"
     ]
    }
   ],
   "source": [
    "data.show()"
   ]
  },
  {
   "cell_type": "code",
   "execution_count": null,
   "metadata": {},
   "outputs": [],
   "source": []
  }
 ],
 "metadata": {
  "kernelspec": {
   "display_name": "Python 3",
   "language": "python",
   "name": "python3"
  },
  "language_info": {
   "codemirror_mode": {
    "name": "ipython",
    "version": 3
   },
   "file_extension": ".py",
   "mimetype": "text/x-python",
   "name": "python",
   "nbconvert_exporter": "python",
   "pygments_lexer": "ipython3",
   "version": "3.6.9"
  }
 },
 "nbformat": 4,
 "nbformat_minor": 2
}
